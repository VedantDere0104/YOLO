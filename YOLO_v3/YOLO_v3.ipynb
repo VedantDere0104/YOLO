{
  "nbformat": 4,
  "nbformat_minor": 0,
  "metadata": {
    "colab": {
      "name": "YOLO_v3.ipynb",
      "provenance": [],
      "collapsed_sections": []
    },
    "kernelspec": {
      "name": "python3",
      "display_name": "Python 3"
    },
    "language_info": {
      "name": "python"
    }
  },
  "cells": [
    {
      "cell_type": "code",
      "metadata": {
        "id": "KJQnOKQ3Ys97"
      },
      "source": [
        "####"
      ],
      "execution_count": null,
      "outputs": []
    },
    {
      "cell_type": "code",
      "metadata": {
        "id": "5YXkKe5VYwqi"
      },
      "source": [
        "import torch\n",
        "from torch import nn\n",
        "import os\n",
        "import pandas as pd\n",
        "import numpy as np\n",
        "import matplotlib.pyplot as plt\n",
        "from torchvision.utils import make_grid\n",
        "from torchvision import transforms\n",
        "from tqdm.notebook import tqdm"
      ],
      "execution_count": null,
      "outputs": []
    },
    {
      "cell_type": "code",
      "metadata": {
        "id": "px-QCsXXZruE"
      },
      "source": [
        "device = torch.device('cuda' if torch.cuda.is_available() else 'cpu')"
      ],
      "execution_count": null,
      "outputs": []
    },
    {
      "cell_type": "code",
      "metadata": {
        "id": "AqN9UYjVUcQk"
      },
      "source": [
        "def show_tensor_images(image_tensor, num_images=2, size=(3 , 416 , 416)):\n",
        "    image_shifted = image_tensor\n",
        "    image_unflat = image_shifted.detach().cpu().view(-1, *size)\n",
        "    image_grid = make_grid(image_unflat[:num_images], nrow=5)\n",
        "    plt.imshow(image_grid.permute(1, 2, 0).squeeze())\n",
        "    plt.show()"
      ],
      "execution_count": null,
      "outputs": []
    },
    {
      "cell_type": "code",
      "metadata": {
        "id": "aobslVvEUb1m"
      },
      "source": [
        "def iou_width_height(boxes1, boxes2):\n",
        "\n",
        "    intersection = torch.min(boxes1[..., 0], boxes2[..., 0]) * torch.min(\n",
        "        boxes1[..., 1], boxes2[..., 1]\n",
        "    )\n",
        "    union = (\n",
        "        boxes1[..., 0] * boxes1[..., 1] + boxes2[..., 0] * boxes2[..., 1] - intersection\n",
        "    )\n",
        "    return intersection / union"
      ],
      "execution_count": null,
      "outputs": []
    },
    {
      "cell_type": "code",
      "metadata": {
        "id": "RSkuRoNgUfnw"
      },
      "source": [
        "\n",
        "def intersection_over_union(boxes_preds, boxes_labels, box_format=\"midpoint\"):\n",
        "\n",
        "    if box_format == \"midpoint\":\n",
        "        box1_x1 = boxes_preds[..., 0:1] - boxes_preds[..., 2:3] / 2\n",
        "        box1_y1 = boxes_preds[..., 1:2] - boxes_preds[..., 3:4] / 2\n",
        "        box1_x2 = boxes_preds[..., 0:1] + boxes_preds[..., 2:3] / 2\n",
        "        box1_y2 = boxes_preds[..., 1:2] + boxes_preds[..., 3:4] / 2\n",
        "        box2_x1 = boxes_labels[..., 0:1] - boxes_labels[..., 2:3] / 2\n",
        "        box2_y1 = boxes_labels[..., 1:2] - boxes_labels[..., 3:4] / 2\n",
        "        box2_x2 = boxes_labels[..., 0:1] + boxes_labels[..., 2:3] / 2\n",
        "        box2_y2 = boxes_labels[..., 1:2] + boxes_labels[..., 3:4] / 2\n",
        "\n",
        "    if box_format == \"corners\":\n",
        "        box1_x1 = boxes_preds[..., 0:1]\n",
        "        box1_y1 = boxes_preds[..., 1:2]\n",
        "        box1_x2 = boxes_preds[..., 2:3]\n",
        "        box1_y2 = boxes_preds[..., 3:4]\n",
        "        box2_x1 = boxes_labels[..., 0:1]\n",
        "        box2_y1 = boxes_labels[..., 1:2]\n",
        "        box2_x2 = boxes_labels[..., 2:3]\n",
        "        box2_y2 = boxes_labels[..., 3:4]\n",
        "\n",
        "    x1 = torch.max(box1_x1, box2_x1)\n",
        "    y1 = torch.max(box1_y1, box2_y1)\n",
        "    x2 = torch.min(box1_x2, box2_x2)\n",
        "    y2 = torch.min(box1_y2, box2_y2)\n",
        "\n",
        "    intersection = (x2 - x1).clamp(0) * (y2 - y1).clamp(0)\n",
        "    box1_area = abs((box1_x2 - box1_x1) * (box1_y2 - box1_y1))\n",
        "    box2_area = abs((box2_x2 - box2_x1) * (box2_y2 - box2_y1))\n",
        "\n",
        "    return intersection / (box1_area + box2_area - intersection + 1e-6)"
      ],
      "execution_count": null,
      "outputs": []
    },
    {
      "cell_type": "code",
      "metadata": {
        "id": "zljgQ4gXYzwQ"
      },
      "source": [
        "class Conv(nn.Module):\n",
        "    def __init__(self , \n",
        "                 in_channels , \n",
        "                 out_channels , \n",
        "                 kernel_size = (3 , 3) , \n",
        "                 stride = (1 , 1), \n",
        "                 padding = 1 , \n",
        "                 use_norm = True , \n",
        "                 use_activation = True):\n",
        "        super(Conv , self).__init__()\n",
        "\n",
        "        self.use_norm = use_norm\n",
        "        self.use_activation = use_activation\n",
        "        self.conv1 = nn.Conv2d(in_channels,\n",
        "                               out_channels , \n",
        "                               kernel_size , \n",
        "                               stride , \n",
        "                               padding)\n",
        "        if self.use_activation:\n",
        "            self.activation = nn.LeakyReLU(0.2)\n",
        "        if self.use_norm:\n",
        "            self.norm = nn.BatchNorm2d(out_channels)\n",
        "        \n",
        "    def forward(self , x):\n",
        "        x = self.conv1(x)\n",
        "        if self.use_norm:\n",
        "            x = self.norm(x)\n",
        "        if self.use_activation:\n",
        "            x = self.activation(x)\n",
        "        return x"
      ],
      "execution_count": null,
      "outputs": []
    },
    {
      "cell_type": "code",
      "metadata": {
        "id": "bRVYqoozY30R"
      },
      "source": [
        "x = torch.randn(2 , 3 , 64 , 64).to(device)\n",
        "conv = Conv(3 , 32 , stride=(2 , 2)).to(device)\n",
        "z = conv(x)\n",
        "z.shape"
      ],
      "execution_count": null,
      "outputs": []
    },
    {
      "cell_type": "code",
      "metadata": {
        "id": "vPTczbZVZ0SC"
      },
      "source": [
        "class Residual_Block(nn.Module):\n",
        "    def __init__(self , \n",
        "                 in_channels , \n",
        "                 num_repeats , \n",
        "                 residual = True):\n",
        "        super(Residual_Block , self).__init__()\n",
        "\n",
        "        self.residual = residual\n",
        "        self.num_repeats = num_repeats\n",
        "        layers = []\n",
        "\n",
        "\n",
        "        for repeat in range(self.num_repeats):\n",
        "            layers.append(Conv(\n",
        "                in_channels , \n",
        "                in_channels // 2 ,\n",
        "                kernel_size = (1 , 1) , \n",
        "                stride = (1 , 1) , \n",
        "                padding = 0\n",
        "            ))\n",
        "\n",
        "            layers.append(Conv(\n",
        "                in_channels //2 , \n",
        "                in_channels\n",
        "            ))\n",
        "\n",
        "        self.conv = nn.Sequential(*layers)\n",
        "    def forward(self , x):\n",
        "        if self.residual:\n",
        "            x_ = self.conv(x)\n",
        "            x = x + x_\n",
        "            return x\n",
        "        else:\n",
        "            x = self.conv(x)\n",
        "            return x"
      ],
      "execution_count": null,
      "outputs": []
    },
    {
      "cell_type": "code",
      "metadata": {
        "id": "kRmzEffL5OwB"
      },
      "source": [
        "x = torch.randn(2 , 64 , 32 , 32).to(device)\n",
        "residual_block = Residual_Block(64 , 1).to(device)\n",
        "z = residual_block(x)\n",
        "z.shape"
      ],
      "execution_count": null,
      "outputs": []
    },
    {
      "cell_type": "code",
      "metadata": {
        "id": "t-Ol8yHz5v3b"
      },
      "source": [
        "class Scaled_Predictions(nn.Module):\n",
        "    def __init__(self , \n",
        "                 in_channels , \n",
        "                 out_channels , \n",
        "                 B = 3):\n",
        "        super(Scaled_Predictions , self).__init__()\n",
        "        self.B = B\n",
        "        self.out_channels = out_channels\n",
        "        self.conv1 = Conv(in_channels , in_channels * 2 )\n",
        "        self.conv2 = Conv(in_channels * 2 , (self.out_channels + 5) * B , use_norm=False , use_activation=False)\n",
        "\n",
        "    def forward(self , x):\n",
        "        x = self.conv1(x)\n",
        "        x = self.conv2(x)\n",
        "        x = x.view(x.shape[0] , self.B , x.shape[2] , x.shape[3] , self.out_channels + 5 )\n",
        "        return x"
      ],
      "execution_count": null,
      "outputs": []
    },
    {
      "cell_type": "code",
      "metadata": {
        "id": "bJoQnwF4KmcJ"
      },
      "source": [
        "x = torch.randn(2 , 1024 , 26 , 26).to(device)\n",
        "sp = Scaled_Predictions(1024 , 20).to(device)\n",
        "z = sp(x)\n",
        "z.shape"
      ],
      "execution_count": null,
      "outputs": []
    },
    {
      "cell_type": "code",
      "metadata": {
        "id": "yNEsgRHK7uvi"
      },
      "source": [
        "config = [\n",
        "          # out_channels , kernel_size , stride , padding\n",
        "          [32 , 3 , 1 , 1] , \n",
        "          [64 , 3 , 2 , 1] , \n",
        "          (\"R\" , 1) ,  # Residual Block (R , repeats)\n",
        "          [128 , 3 , 2 , 1] , \n",
        "          (\"R\" , 2) , \n",
        "          [256 , 3 , 2 , 1] , \n",
        "          (\"R\" , 8) , \n",
        "          [512 , 3 , 2 , 1] , \n",
        "          (\"R\" , 8) ,\n",
        "          [1024 , 3 , 2 , 1] , \n",
        "          (\"R\" , 4) , \n",
        "          [512 , 1 , 1 , 0] , \n",
        "          [1024 , 3 , 1 , 1] , \n",
        "          \"S\" , \n",
        "          [256 , 1 , 1 , 0] , \n",
        "          \"U\" , \n",
        "          [256 , 1 , 1 , 0] , \n",
        "          [512 , 3 , 1 , 1] , \n",
        "          \"S\" , \n",
        "          [128 , 1 , 1 , 0] , \n",
        "          \"U\" , \n",
        "          [128 , 1 , 1 , 0] , \n",
        "          [256 , 3 , 1 , 1] , \n",
        "          \"S\"\n",
        "]"
      ],
      "execution_count": null,
      "outputs": []
    },
    {
      "cell_type": "code",
      "metadata": {
        "id": "Ia3b9AmfByuf"
      },
      "source": [
        "class YOLO(nn.Module):\n",
        "    def __init__(self , \n",
        "                 in_channels = 3 , \n",
        "                 out_channels_ = 20 , \n",
        "                 config = config):\n",
        "        super(YOLO , self).__init__()\n",
        "\n",
        "        self.layers = nn.ModuleList()\n",
        "\n",
        "        for layer in config:\n",
        "            if isinstance(layer , list):\n",
        "                out_channels , kernel_size , stride , padding = layer\n",
        "                self.layers.append(Conv(in_channels , out_channels , kernel_size , stride , padding))\n",
        "                in_channels = out_channels\n",
        "\n",
        "            if isinstance(layer , tuple):\n",
        "                _ , repeats = layer\n",
        "                self.layers.append(Residual_Block(in_channels , repeats))\n",
        "            \n",
        "            if isinstance(layer , str) and layer == \"S\":\n",
        "                self.layers.append(\n",
        "                    Residual_Block(in_channels , 1 , residual=False)\n",
        "                )\n",
        "                self.layers.append(\n",
        "                    Conv(in_channels , in_channels //2 , kernel_size=1 , stride=1 , padding = 0)\n",
        "                )\n",
        "                self.layers.append(\n",
        "                    Scaled_Predictions(in_channels //2 , out_channels_)\n",
        "                )\n",
        "                in_channels = in_channels // 2\n",
        "            if isinstance(layer , str) and layer == \"U\":\n",
        "                self.layers.append(nn.Upsample(scale_factor=2))\n",
        "                in_channels = in_channels * 3\n",
        "    def forward(self , x):\n",
        "        outputs = []\n",
        "        skip_connections = []\n",
        "        for module in self.layers:\n",
        "            if isinstance(module , Scaled_Predictions):\n",
        "                #print(module)\n",
        "                outputs.append(module(x))\n",
        "                continue\n",
        "            x = module(x)\n",
        "\n",
        "            if isinstance(module , Residual_Block) and module.num_repeats == 8:\n",
        "                skip_connections.append(x)\n",
        "            elif isinstance(module , nn.Upsample):\n",
        "                x = torch.cat([x , skip_connections[-1]] , dim=1)\n",
        "                skip_connections.pop()\n",
        "        return outputs"
      ],
      "execution_count": null,
      "outputs": []
    },
    {
      "cell_type": "code",
      "metadata": {
        "id": "M3jFR1JBFU-2"
      },
      "source": [
        "x = torch.randn(2 , 3 , 416 , 416).to(device)\n",
        "yolo = YOLO().to(device)\n",
        "z1 , z2 , z3 = yolo(x)\n",
        "print(z1.shape , z2.shape , z3.shape)"
      ],
      "execution_count": null,
      "outputs": []
    },
    {
      "cell_type": "code",
      "metadata": {
        "id": "-NxAyRK8Wrtm"
      },
      "source": [
        "anchors = [\n",
        "    [(0.28, 0.22), (0.38, 0.48), (0.9, 0.78)],\n",
        "    [(0.07, 0.15), (0.15, 0.11), (0.14, 0.29)],\n",
        "    [(0.02, 0.03), (0.04, 0.07), (0.08, 0.06)],\n",
        "] "
      ],
      "execution_count": null,
      "outputs": []
    },
    {
      "cell_type": "code",
      "metadata": {
        "id": "vvwcVoYoFcob"
      },
      "source": [
        "class Dataset_(torch.utils.data.Dataset):\n",
        "    def __init__(\n",
        "        self,\n",
        "        csv_file,\n",
        "        img_dir,\n",
        "        label_dir,\n",
        "        anchors = anchors,\n",
        "        S=[13, 26, 52],\n",
        "        C=20,\n",
        "        transform=None,\n",
        "    ):\n",
        "        self.df = pd.read_csv(csv_file)[:10]\n",
        "        self.img_dir = img_dir\n",
        "        self.label_dir = label_dir\n",
        "        self.transform = transform\n",
        "        self.S = S\n",
        "        self.anchors = torch.tensor(anchors[0] + anchors[1] + anchors[2])\n",
        "        self.num_anchors = self.anchors.shape[0]\n",
        "        self.num_anchors_per_scale = self.num_anchors // 3\n",
        "        self.C = C\n",
        "        self.ignore_iou_thresh = 0.5\n",
        "\n",
        "    def __len__(self):\n",
        "        return len(self.df)\n",
        "\n",
        "    def __getitem__(self , idx):\n",
        "        label_path = os.path.join(self.label_dir , self.df.iloc[idx , 1])\n",
        "        boxes = []\n",
        "\n",
        "        with open(label_path) as f:\n",
        "            for label in f.readlines():\n",
        "                class_label , x , y , width , height = [\n",
        "                    float(x) if float(x) != int(float(x)) else int(x)\n",
        "                    for x in label.replace(\"\\n\", \"\").split()\n",
        "                ]\n",
        "                boxes.append([ x , y , width , height , class_label])\n",
        "\n",
        "        boxes = torch.tensor(boxes) \n",
        "\n",
        "        image_path = os.path.join(self.img_dir , self.df.iloc[idx , 0])\n",
        "        image = np.asarray(plt.imread(image_path))\n",
        "        image = torch.from_numpy(image).permute(2 , 0 , 1)\n",
        "\n",
        "        if self.transform:\n",
        "            image = self.transform(image)\n",
        "        \n",
        "        target = [torch.zeros((self.num_anchors // 3 , S , S , 6)) for S in self.S]\n",
        "\n",
        "        for box in boxes:\n",
        "            iou_anchors = iou_width_height(box[2:4] , self.anchors)\n",
        "            anchors_indices = iou_anchors.argsort(descending = True , dim = 0)\n",
        "\n",
        "            x , y , width , height , class_label = box\n",
        "            has_anchor = [False] * 3\n",
        "            for anchor_idx in anchors_indices:\n",
        "                scale_idx = anchor_idx // self.num_anchors_per_scale\n",
        "                anchor_on_scale = anchor_idx % self.num_anchors_per_scale\n",
        "                S = self.S[scale_idx]\n",
        "                i , j = int(S * y) , int(S * x)\n",
        "                anchor_taken = target[scale_idx][anchor_on_scale , i , j , 0]\n",
        "                if not anchor_taken and not has_anchor[scale_idx] :\n",
        "                    target[scale_idx][anchor_on_scale, i , j , 0] = 1\n",
        "                    x_cell , y_cell = S * x - j , S * y - i\n",
        "                    width_cell , height_cell = (\n",
        "                        width * S , \n",
        "                        height * S\n",
        "                    )\n",
        "                    box_coordinates = torch.tensor(\n",
        "                        [x_cell , y_cell , width_cell , height_cell]\n",
        "                    )\n",
        "                    target[scale_idx][anchor_on_scale , i , j , 1:5] = box_coordinates\n",
        "                    target[scale_idx][anchor_on_scale , i , j , 5] = int(class_label)\n",
        "                    has_anchor[scale_idx] = True\n",
        "\n",
        "                elif not anchor_taken and iou_anchors[anchor_idx] > self.ignore_iou_thresh:\n",
        "                    target[scale_idx][anchor_on_scale , i , j , 0] = -1\n",
        "        return image , tuple(target)"
      ],
      "execution_count": null,
      "outputs": []
    },
    {
      "cell_type": "code",
      "metadata": {
        "id": "P4uUUOCEWjoB"
      },
      "source": [
        "transform = transforms.Compose([\n",
        "                                transforms.ToPILImage() , \n",
        "                                transforms.Resize((416 , 416)) , \n",
        "                                transforms.ToTensor()\n",
        "])\n",
        "dataset = Dataset_(\n",
        "    img_dir = '/content/drive/MyDrive/Yolo_Dataset/images/' , \n",
        "    label_dir = '/content/drive/MyDrive/Yolo_Dataset/labels' , \n",
        "    csv_file = '/content/drive/MyDrive/Yolo_Dataset/train.csv' , \n",
        "    transform = transform\n",
        ")\n",
        "dataloader = torch.utils.data.DataLoader(dataset , batch_size = 1 , shuffle=True)"
      ],
      "execution_count": null,
      "outputs": []
    },
    {
      "cell_type": "code",
      "metadata": {
        "id": "8PQMdglWW5qU"
      },
      "source": [
        "for x , y in dataloader:\n",
        "    show_tensor_images(x)\n",
        "    print(y)\n",
        "    break"
      ],
      "execution_count": null,
      "outputs": []
    },
    {
      "cell_type": "code",
      "metadata": {
        "id": "kg6vWdL6XF9E"
      },
      "source": [
        "class Loss(nn.Module):\n",
        "    def __init__(self):\n",
        "        super(Loss , self).__init__()\n",
        "\n",
        "        self.mse = nn.MSELoss()\n",
        "        self.en = nn.CrossEntropyLoss()\n",
        "        self.bce = nn.BCEWithLogitsLoss()\n",
        "        self.sigmoid = nn.Sigmoid()\n",
        "\n",
        "\n",
        "        self.lambda_class = 1\n",
        "        self.lambda_noobj = 10\n",
        "        self.lambda_obj = 1\n",
        "        self.lambda_box = 10\n",
        "\n",
        "    def forward(self , predictions , targets , anchors):\n",
        "        anchors = torch.tensor(anchors)\n",
        "        obj = targets[... , 0] == 1\n",
        "        noobj = targets[... , 0] == 0\n",
        "\n",
        "        no_obj_loss = self.mse(\n",
        "            (predictions[... , 0:1][noobj]) , (targets[... , 0:1][noobj])\n",
        "        )\n",
        "\n",
        "        anchors = anchors.reshape(1 , 3 , 1 , 1 , 2)\n",
        "        box_preds = torch.cat([self.sigmoid(predictions[... , 1:3]) , torch.exp(predictions[... , 3:5]) * anchors] , dim = -1)\n",
        "        ious = intersection_over_union(box_preds[obj] , targets[... , 1:5][obj]).detach()\n",
        "        object_loss = self.mse(self.sigmoid(predictions[... , 0:1][obj]) , ious * targets[... , 0:1][obj])\n",
        "\n",
        "        predictions[... , 1:3] = self.sigmoid(predictions[... , 1:3])\n",
        "        targets[..., 3:5] = torch.log(\n",
        "            (1e-16 + targets[..., 3:5] / anchors)\n",
        "        )  \n",
        "        box_loss = self.mse(predictions[... , 1:5][obj] , targets[... , 1:5][obj])\n",
        "\n",
        "        class_loss = self.en(\n",
        "            (predictions[... , 5:][obj]) , (targets[... , 5][obj].long())\n",
        "        )\n",
        "\n",
        "        return (\n",
        "            self.lambda_box * box_loss\n",
        "            + self.lambda_obj * object_loss\n",
        "            + self.lambda_noobj * no_obj_loss\n",
        "            + self.lambda_class * class_loss\n",
        "        )"
      ],
      "execution_count": null,
      "outputs": []
    },
    {
      "cell_type": "code",
      "metadata": {
        "id": "vFPLetpYZHGR"
      },
      "source": [
        "loss_fn = Loss().to(device)\n",
        "for x , y in dataloader:\n",
        "    y0, y1, y2 = (\n",
        "        y[0].to(device),\n",
        "        y[1].to(device),\n",
        "        y[2].to(device),\n",
        "    )\n",
        "    out = yolo(x)\n",
        "    print(out[0].shape , y[0].shape)\n",
        "    break\n",
        "loss = (\n",
        "    loss_fn(out[0], y0, anchors[0])\n",
        "    + loss_fn(out[1], y1, anchors[1])\n",
        "    + loss_fn(out[2], y2, anchors[2])\n",
        ")\n",
        "print(z)"
      ],
      "execution_count": null,
      "outputs": []
    },
    {
      "cell_type": "code",
      "metadata": {
        "id": "VgcHYfqnZJDs"
      },
      "source": [
        "yolo = YOLO().to(device)\n",
        "lr = 0.002\n",
        "betas = (0.5 , 0.999)\n",
        "opt = torch.optim.Adam(yolo.parameters() , lr=lr , betas = betas)\n",
        "epochs = 200\n",
        "display_steps = 5"
      ],
      "execution_count": null,
      "outputs": []
    },
    {
      "cell_type": "code",
      "metadata": {
        "id": "9svLp8imcY-b"
      },
      "source": [
        "def train():\n",
        "    mean_yolo_loss = 0\n",
        "    cur_step = 0\n",
        "\n",
        "    for epoch in range(epochs):\n",
        "        for x , y in tqdm(dataloader):\n",
        "            x = x.to(device)\n",
        "            y0, y1, y2 = (\n",
        "                y[0].to(device),\n",
        "                y[1].to(device),\n",
        "                y[2].to(device),)\n",
        "\n",
        "            opt.zero_grad()\n",
        "            out = yolo(x)\n",
        "            loss = (\n",
        "                loss_fn(out[0], y0, anchors[0])\n",
        "                + loss_fn(out[1], y1, anchors[1])\n",
        "                + loss_fn(out[2], y2, anchors[2])\n",
        "            )\n",
        "            loss.backward()\n",
        "            opt.step()\n",
        "            \n",
        "            mean_yolo_loss += loss.item() / display_steps\n",
        "            if cur_step % display_steps == 0:\n",
        "                print(f'Epoch {epoch} , Step {cur_step} , Mean YOLO Loss {mean_yolo_loss}')\n",
        "            cur_step +=1\n",
        "        mean_yolo_loss = 0"
      ],
      "execution_count": null,
      "outputs": []
    },
    {
      "cell_type": "code",
      "metadata": {
        "id": "ffN_GY5ccb8S"
      },
      "source": [
        "train()"
      ],
      "execution_count": null,
      "outputs": []
    },
    {
      "cell_type": "code",
      "metadata": {
        "id": "JA5Akq-3ccaj"
      },
      "source": [
        ""
      ],
      "execution_count": null,
      "outputs": []
    }
  ]
}