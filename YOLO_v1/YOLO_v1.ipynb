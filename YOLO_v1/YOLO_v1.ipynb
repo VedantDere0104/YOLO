{
  "nbformat": 4,
  "nbformat_minor": 0,
  "metadata": {
    "colab": {
      "name": "YOLO_v1.ipynb",
      "provenance": [],
      "collapsed_sections": []
    },
    "kernelspec": {
      "name": "python3",
      "display_name": "Python 3"
    },
    "language_info": {
      "name": "python"
    }
  },
  "cells": [
    {
      "cell_type": "code",
      "metadata": {
        "id": "e3bB748F5c0N"
      },
      "source": [
        "####"
      ],
      "execution_count": null,
      "outputs": []
    },
    {
      "cell_type": "code",
      "metadata": {
        "id": "9dYK_5n92B9o"
      },
      "source": [
        "#! unzip '/content/drive/MyDrive/archive.zip' -d '/content/drive/MyDrive/Yolo_Dataset/'"
      ],
      "execution_count": null,
      "outputs": []
    },
    {
      "cell_type": "code",
      "metadata": {
        "id": "wloeg9qY5f6C"
      },
      "source": [
        "import torch\n",
        "from torch import nn\n",
        "import torch.nn.functional as F\n",
        "import pandas as pd\n",
        "import os\n",
        "import matplotlib.pyplot as plt\n",
        "import numpy as np\n",
        "from torchvision.utils import make_grid\n",
        "from torchvision import transforms\n",
        "from PIL import Image"
      ],
      "execution_count": null,
      "outputs": []
    },
    {
      "cell_type": "code",
      "metadata": {
        "id": "FdqnEU-k60Gt"
      },
      "source": [
        "device = torch.device('cuda' if torch.cuda.is_available() else 'cpu')"
      ],
      "execution_count": null,
      "outputs": []
    },
    {
      "cell_type": "code",
      "metadata": {
        "id": "t2BmiGt87Gpw"
      },
      "source": [
        "def show_tensor_images(image_tensor, num_images=2, size=(3 , 448 , 448)):\n",
        "  image_shifted = image_tensor\n",
        "  image_unflat = image_shifted.detach().cpu().view(-1, *size)\n",
        "  image_grid = make_grid(image_unflat[:num_images], nrow=5)\n",
        "  plt.imshow(image_grid.permute(1, 2, 0).squeeze())\n",
        "  plt.show()"
      ],
      "execution_count": null,
      "outputs": []
    },
    {
      "cell_type": "code",
      "metadata": {
        "id": "cv-fRw3wXKxs"
      },
      "source": [
        "def iou(boxes_preds , boxes_labels):\n",
        "    box1_x1 = boxes_preds[..., 0:1] - boxes_preds[..., 2:3] / 2\n",
        "    box1_y1 = boxes_preds[..., 1:2] - boxes_preds[..., 3:4] / 2\n",
        "    box1_x2 = boxes_preds[..., 0:1] + boxes_preds[..., 2:3] / 2\n",
        "    box1_y2 = boxes_preds[..., 1:2] + boxes_preds[..., 3:4] / 2\n",
        "    box2_x1 = boxes_labels[..., 0:1] - boxes_labels[..., 2:3] / 2\n",
        "    box2_y1 = boxes_labels[..., 1:2] - boxes_labels[..., 3:4] / 2\n",
        "    box2_x2 = boxes_labels[..., 0:1] + boxes_labels[..., 2:3] / 2\n",
        "    box2_y2 = boxes_labels[..., 1:2] + boxes_labels[..., 3:4] / 2\n",
        "\n",
        "    x1 = torch.max(box1_x1 , box2_x1)\n",
        "    x2 = torch.max(box1_x2 , box2_x2)\n",
        "    y1 = torch.max(box1_y1 , box2_y1)\n",
        "    y2 = torch.max(box1_y2 , box2_y2)\n",
        "\n",
        "    intersection = (x2 - x2).clamp(0) * (y2 - y1).clamp(0)\n",
        "    box1_area = abs((box1_x2 - box1_x1) * (box1_y2 - box1_y1))\n",
        "    box2_area = abs((box2_x2 - box2_x1) * (box2_y2 - box2_y1))\n",
        "    return intersection / (box1_area + box2_area - intersection + 1e-6)"
      ],
      "execution_count": null,
      "outputs": []
    },
    {
      "cell_type": "code",
      "metadata": {
        "id": "7H1nYB7C5kFQ"
      },
      "source": [
        "class Conv(nn.Module):\n",
        "    def __init__(self , \n",
        "                 in_channels,  \n",
        "                 out_channels ,\n",
        "                 kernel_size = 3 , \n",
        "                 stride = 1 , \n",
        "                 padding = 1 , \n",
        "                 use_norm = False , \n",
        "                 use_activation = True ,\n",
        "                 use_pool = True):\n",
        "        super(Conv , self).__init__()\n",
        "\n",
        "        self.use_norm = use_norm\n",
        "        self.use_activation = use_activation\n",
        "        self.use_pool = use_pool\n",
        "\n",
        "        self.conv1 = nn.Conv2d(in_channels , \n",
        "                               out_channels , \n",
        "                               kernel_size , \n",
        "                               stride , \n",
        "                               padding)\n",
        "        \n",
        "        if self.use_norm:\n",
        "            self.norm = nn.BatchNorm2d(out_channels)\n",
        "        if self.use_activation:\n",
        "            self.activation = nn.LeakyReLU(0.1)\n",
        "        if self.use_pool:\n",
        "            self.maxpool = nn.MaxPool2d(kernel_size=2 , stride=2)\n",
        "\n",
        "    def forward(self , x):\n",
        "        x = self.conv1(x)\n",
        "        if self.use_norm:\n",
        "            x = self.norm(x)\n",
        "        if self.use_activation:\n",
        "            x = self.activation(x)\n",
        "        if self.use_pool:\n",
        "            x = self.maxpool(x)\n",
        "        return x"
      ],
      "execution_count": null,
      "outputs": []
    },
    {
      "cell_type": "code",
      "metadata": {
        "id": "yyVmqJdn6vei"
      },
      "source": [
        "x = torch.randn(2 , 1024 , 7 , 7).to(device)\n",
        "conv = Conv(1024 , 1024 , 3 ,  stride=2 ,  padding=1  , use_pool=False).to(device)\n",
        "z = conv(x)\n",
        "z.shape"
      ],
      "execution_count": null,
      "outputs": []
    },
    {
      "cell_type": "code",
      "metadata": {
        "id": "NbcZh1OR_4hg"
      },
      "source": [
        "class YOLO_Block(nn.Module):\n",
        "    def __init__(self , \n",
        "                 in_channels , \n",
        "                 out_channels , \n",
        "                 use_pool = False):\n",
        "        super(YOLO_Block , self).__init__()\n",
        "\n",
        "        self.conv1 = Conv(in_channels ,\n",
        "                          out_channels//2 , \n",
        "                          kernel_size = 1 , \n",
        "                          stride = 1 , \n",
        "                          padding = 0 , \n",
        "                          use_pool = False)\n",
        "        self.conv2 = Conv(out_channels//2 , \n",
        "                          out_channels , \n",
        "                          use_pool = use_pool)\n",
        "    def forward(self , x):\n",
        "        x = self.conv1(x)\n",
        "        x = self.conv2(x)\n",
        "        return x"
      ],
      "execution_count": null,
      "outputs": []
    },
    {
      "cell_type": "code",
      "metadata": {
        "id": "YX8zjWmpA8AE"
      },
      "source": [
        "x = torch.randn(2 , 3 , 512 , 512).to(device)\n",
        "yolo_block = YOLO_Block(3 , 32 , use_pool=True).to(device)\n",
        "z = yolo_block(x)\n",
        "z.shape"
      ],
      "execution_count": null,
      "outputs": []
    },
    {
      "cell_type": "code",
      "metadata": {
        "id": "ta0zM2iZDMnc"
      },
      "source": [
        "class Repeated_YOLO_Block(nn.Module):\n",
        "    def __init__(self , \n",
        "                 in_channels , \n",
        "                 out_channels , \n",
        "                 repeats):\n",
        "        super(Repeated_YOLO_Block , self).__init__()\n",
        "\n",
        "        layers = []\n",
        "        in_channels_ = in_channels\n",
        "        for i , rep in enumerate(range(repeats)):\n",
        "            if i == len(range(repeats)):\n",
        "                use_pool = True\n",
        "            else :\n",
        "                use_pool = False\n",
        "            layers.append(YOLO_Block(in_channels_ , out_channels , use_pool=use_pool))\n",
        "            in_channels_ = out_channels\n",
        "\n",
        "        self.conv = nn.Sequential(*layers)\n",
        "\n",
        "    def forward(self , x):\n",
        "        x = self.conv(x)\n",
        "        return x"
      ],
      "execution_count": null,
      "outputs": []
    },
    {
      "cell_type": "code",
      "metadata": {
        "id": "yaTK_-rkD4GZ"
      },
      "source": [
        "x = torch.randn(2 , 3 , 512 , 512).to(device)\n",
        "repeated_block = Repeated_YOLO_Block(3 , 32 , 4)\n",
        "z = repeated_block(x)\n",
        "z.shape"
      ],
      "execution_count": null,
      "outputs": []
    },
    {
      "cell_type": "code",
      "metadata": {
        "id": "EqwvOj6L69ho"
      },
      "source": [
        "class YOLO(nn.Module):\n",
        "    def __init__(self ,\n",
        "                 in_channels ,\n",
        "                 out_channels,  \n",
        "                 hidden_dim_list , \n",
        "                 repeat_list):\n",
        "        super(YOLO , self).__init__()\n",
        "\n",
        "        self.conv1 = Conv(in_channels , \n",
        "                          hidden_dim_list[0] , \n",
        "                          kernel_size = 7 , \n",
        "                          stride = 2 , \n",
        "                          padding = 3)\n",
        "\n",
        "        self.conv2 = Conv(hidden_dim_list[0] , \n",
        "                          hidden_dim_list[1])\n",
        "\n",
        "        self.conv3 = nn.Sequential(\n",
        "            YOLO_Block(hidden_dim_list[1] , \n",
        "                       hidden_dim_list[2]) , \n",
        "            YOLO_Block(hidden_dim_list[2] , \n",
        "                       hidden_dim_list[3])\n",
        "        )        \n",
        "\n",
        "        self.conv4 = nn.Sequential(\n",
        "            Repeated_YOLO_Block(hidden_dim_list[3] , hidden_dim_list[4] , repeat_list[0]) , \n",
        "            YOLO_Block(hidden_dim_list[4] , hidden_dim_list[5] , use_pool=True)\n",
        "        )\n",
        "\n",
        "        self.conv5 = nn.Sequential(\n",
        "            Repeated_YOLO_Block(hidden_dim_list[5] , hidden_dim_list[6] , repeat_list[1]) , \n",
        "            YOLO_Block(hidden_dim_list[6] , hidden_dim_list[7] , use_pool=True)\n",
        "        )\n",
        "\n",
        "        self.conv6 = nn.Sequential(\n",
        "            Conv(hidden_dim_list[7] , hidden_dim_list[7] , use_pool=False) , \n",
        "            Conv(hidden_dim_list[7] , hidden_dim_list[7] , use_pool=True)\n",
        "        )\n",
        "\n",
        "        self.conv7 = nn.Sequential(\n",
        "            Conv(hidden_dim_list[7] , hidden_dim_list[7] , kernel_size=3 , stride=2 , padding=1 , use_pool=True)\n",
        "        )\n",
        "\n",
        "        self.flatten = nn.Flatten()\n",
        "        self.fc1 = nn.Linear(hidden_dim_list[8] , hidden_dim_list[9])\n",
        "        self.fc2 = nn.Linear(hidden_dim_list[9] , hidden_dim_list[10])\n",
        "\n",
        "    def forward(self , x):\n",
        "        x = self.conv1(x)\n",
        "        x = self.conv2(x)\n",
        "        x = self.conv3(x)\n",
        "        x = self.conv4(x)\n",
        "        x = self.conv5(x)\n",
        "        x = self.conv6(x)\n",
        "        x = self.conv7(x)\n",
        "        x = self.flatten(x)\n",
        "        x = self.fc1(x)\n",
        "        x = self.fc2(x)\n",
        "        # (S x S x (B * 5 + C)) => S = grid , B = Bounding Boxes , C = Class Probabilities\n",
        "        # x -> (7 x 7 x 30)\n",
        "        x = x.view(x.shape[0] , 7 , 7 , 30)\n",
        "        return x"
      ],
      "execution_count": null,
      "outputs": []
    },
    {
      "cell_type": "code",
      "metadata": {
        "id": "JZdmZzJ2HKgn"
      },
      "source": [
        "x = torch.randn(2 , 3 , 448 , 448).to(device)\n",
        "hidden_dim_list = [64 , 192 , 128 , 256 , 256 , 512 , 1024 , 1024 , 4096 , 2048 , 1470]\n",
        "repeat_list = [4 , 2]\n",
        "yolo = YOLO(3 , 32 , hidden_dim_list , repeat_list)\n",
        "z = yolo(x)\n",
        "z.shape"
      ],
      "execution_count": null,
      "outputs": []
    },
    {
      "cell_type": "code",
      "metadata": {
        "id": "W1J84OShV_ai"
      },
      "source": [
        "class Loss(nn.Module):\n",
        "    def __init__(self , \n",
        "                 S = 7 , \n",
        "                 B = 2 , \n",
        "                 C = 20):\n",
        "        super(Loss , self).__init__()\n",
        "\n",
        "        self.criterion = nn.MSELoss(reduction='sum')\n",
        "        self.S = S\n",
        "        self.B = B\n",
        "        self.C = C\n",
        "\n",
        "        self.lambda_noobj = 0.5\n",
        "        self.lambda_coord = 5\n",
        "\n",
        "    def forward(self , predictions , target):\n",
        "        #predictions = predictions.reshape(-1 , self.S , self.S , self.B + 5 * self.C)\n",
        "\n",
        "        iou_b1 = iou(predictions[... , 21:25] , target[... , 21:25])\n",
        "        iou_b2 = iou(predictions[... , 26:30] , target[... , 21:25])\n",
        "        ious = torch.cat((iou_b1.unsqueeze(0) , iou_b2.unsqueeze(0)) , dim=0)\n",
        "        iout_maxes , bestbox = torch.max(ious , dim=0)\n",
        "        exists_box = target[...,20].unsqueeze(3)\n",
        "\n",
        "\n",
        "        box_predictions = exists_box * ((\n",
        "            bestbox * predictions[... , 26:30]\n",
        "            + (1 - bestbox) * predictions[... , 21:25]\n",
        "        ))\n",
        "\n",
        "        box_target = exists_box * target[... , 21:25]\n",
        "        \n",
        "        box_predictions[... , 2:4] = torch.sign(box_predictions[... , 2:4]) * torch.sqrt(\n",
        "            torch.abs(box_predictions[... , 2:4] + 1e-6)\n",
        "        )\n",
        "\n",
        "        box_target[... , 2:4] = torch.sqrt(box_target[... , 2:4])\n",
        "\n",
        "        box_loss = self.criterion(\n",
        "            torch.flatten(box_predictions , end_dim=-2) , \n",
        "            torch.flatten(box_target , end_dim=-2)\n",
        "        )\n",
        "\n",
        "        \n",
        "        pred_box = bestbox * predictions[... , 25:26] + (1 - bestbox) * predictions[... , 20:21]\n",
        "        object_loss = self.criterion(\n",
        "            torch.flatten(exists_box * pred_box) , \n",
        "            torch.flatten(exists_box * target[... , 20:21])\n",
        "        )\n",
        "\n",
        "        no_obj_loss = self.criterion(\n",
        "            torch.flatten((1 - exists_box) * predictions[... , 25:26] , start_dim=1) , \n",
        "            torch.flatten((1 - exists_box) * target[... , 20:21] , start_dim = 1)\n",
        "        )\n",
        "\n",
        "        no_obj_loss += self.criterion(\n",
        "            torch.flatten((1 - exists_box) * predictions[... , 20:21] , start_dim=1) , \n",
        "            torch.flatten((1 - exists_box) * target[... , 20:21] , start_dim = 1)\n",
        "        )\n",
        "\n",
        "        class_loss = self.criterion(\n",
        "            torch.flatten(exists_box * predictions[... , :20] , end_dim=-2) , \n",
        "            torch.flatten(exists_box * target[... , :20] , end_dim=-2)\n",
        "        )\n",
        "\n",
        "        loss = (\n",
        "            self.lambda_coord * box_loss \n",
        "            + object_loss \n",
        "            + self.lambda_noobj * no_obj_loss \n",
        "            + class_loss\n",
        "        )\n",
        "        return loss"
      ],
      "execution_count": null,
      "outputs": []
    },
    {
      "cell_type": "code",
      "metadata": {
        "id": "iOUnDGwVH_iz"
      },
      "source": [
        "class Dataset_(torch.utils.data.Dataset):\n",
        "    def __init__(self , \n",
        "                 csv_file , \n",
        "                 image_dir ,\n",
        "                 label_dir , \n",
        "                 S = 7 , \n",
        "                 B = 2 , \n",
        "                 C = 20 , \n",
        "                 transforms = None):\n",
        "        super(Dataset_ , self).__init__()\n",
        "\n",
        "        self.df = pd.read_csv(csv_file)\n",
        "        self.image_dir = image_dir\n",
        "        self.label_dir = label_dir\n",
        "\n",
        "        self.S = S\n",
        "        self.B = B\n",
        "        self.C = C\n",
        "        self.transforms = transforms\n",
        "\n",
        "    def __len__(self):\n",
        "        return len(self.df)\n",
        "    \n",
        "    def __getitem__(self , idx):\n",
        "        label_path = os.path.join(self.label_dir , self.df.iloc[idx , 1])\n",
        "        boxes = []\n",
        "\n",
        "        with open(label_path) as f:\n",
        "            for label in f.readlines():\n",
        "                class_label , x , y , width , height = [\n",
        "                    float(x) if float(x) != int(float(x)) else int(x)\n",
        "                    for x in label.replace(\"\\n\", \"\").split()\n",
        "                ]\n",
        "                boxes.append([class_label , x , y , width , height])\n",
        "        image_path = os.path.join(self.image_dir , self.df.iloc[idx , 0])\n",
        "        image = np.asarray(plt.imread(image_path))\n",
        "        image = torch.from_numpy(image).permute(2 , 0 , 1)\n",
        "        boxes = torch.tensor(boxes)\n",
        "\n",
        "        if self.transforms:\n",
        "            image = self.transforms(image)\n",
        "        label_matrix = torch.zeros((self.S , self.S , self.C + 5 * self.B))\n",
        "\n",
        "        for box in boxes:\n",
        "            class_label , x , y , width , height = box.tolist()\n",
        "            class_label = int(class_label)\n",
        "            i = int(self.S * y)\n",
        "            j = int(self.S * x)\n",
        "            x_cell = self.S * x - j\n",
        "            y_cell = self.S * y - i\n",
        "\n",
        "            width_cell , height_cell = (\n",
        "                width * self.S , \n",
        "                height * self.S\n",
        "            )\n",
        "            \n",
        "            if label_matrix[i , j , 20] == 0:\n",
        "                label_matrix[i , j , 20] == 1\n",
        "                box_coordinates = torch.tensor(\n",
        "                    [x_cell , y_cell , width_cell , height_cell]\n",
        "                )\n",
        "                label_matrix[i , j , 21:25] = box_coordinates\n",
        "                label_matrix[i , j , class_label] = 1\n",
        "            return image , label_matrix"
      ],
      "execution_count": null,
      "outputs": []
    },
    {
      "cell_type": "code",
      "metadata": {
        "id": "uy2RLcCh7cKJ"
      },
      "source": [
        "transform = transforms.Compose([\n",
        "                                transforms.ToPILImage(),\n",
        "                                transforms.Resize((448 , 448)) , \n",
        "                                transforms.ToTensor()\n",
        "])"
      ],
      "execution_count": null,
      "outputs": []
    },
    {
      "cell_type": "code",
      "metadata": {
        "id": "A0vaWnmrjEUc"
      },
      "source": [
        "dataset = Dataset_(\n",
        "    csv_file = '/content/drive/MyDrive/Yolo_Dataset/train.csv' , \n",
        "    image_dir = '/content/drive/MyDrive/Yolo_Dataset/images' , \n",
        "    label_dir = '/content/drive/MyDrive/Yolo_Dataset/labels' , \n",
        "    transforms = transform\n",
        ")"
      ],
      "execution_count": null,
      "outputs": []
    },
    {
      "cell_type": "code",
      "metadata": {
        "id": "qrnCphdH63lj"
      },
      "source": [
        "dataloader = torch.utils.data.DataLoader(dataset , batch_size = 2 , shuffle = True)"
      ],
      "execution_count": null,
      "outputs": []
    },
    {
      "cell_type": "code",
      "metadata": {
        "id": "ZQSTPhRO6_zO"
      },
      "source": [
        "for x , y in dataloader:\n",
        "    show_tensor_images(x)\n",
        "    print(y.shape)\n",
        "    break"
      ],
      "execution_count": null,
      "outputs": []
    },
    {
      "cell_type": "code",
      "metadata": {
        "id": "Z1dmHEni_ijL"
      },
      "source": [
        "hidden_dim_list = [64 , 192 , 128 , 256 , 256 , 512 , 1024 , 1024 , 4096 , 2048 , 1470]\n",
        "repeat_list = [4 , 2]\n",
        "yolo = YOLO(3 , 32 , hidden_dim_list , repeat_list).to(device)"
      ],
      "execution_count": null,
      "outputs": []
    },
    {
      "cell_type": "code",
      "metadata": {
        "id": "YFbmecws-xWQ"
      },
      "source": [
        "epochs = 100\n",
        "lr = 0.0002\n",
        "betas = (0.5 , 0.999)\n",
        "criterion = Loss().to(device)\n",
        "opt = torch.optim.Adam(yolo.parameters() , lr=lr , betas = betas)\n",
        "display_step = 500"
      ],
      "execution_count": null,
      "outputs": []
    },
    {
      "cell_type": "code",
      "metadata": {
        "id": "wEMQmsLZ_5MY"
      },
      "source": [
        "def train():\n",
        "    mean_yolo_loss = 0\n",
        "    cur_step = 0\n",
        "    for epoch in range(epochs):\n",
        "        for x , y in dataloader:\n",
        "            x , y = x.to(device) , y.to(device)\n",
        "            \n",
        "            opt.zero_grad()\n",
        "            y_ = yolo(x)\n",
        "            loss = criterion(y_ , y)\n",
        "            loss.backward()\n",
        "            opt.step()\n",
        "\n",
        "            mean_yolo_loss += loss.item() / display_step\n",
        "\n",
        "            if cur_step % display_step == 0:\n",
        "                print(f'Epoch {epoch} , cur_step {cur_step} , Yolo mean batch loss {mean_yolo_loss}')\n",
        "                show_tensor_images(x)\n",
        "            cur_step += 1\n",
        "        mean_yolo_loss = 0\n"
      ],
      "execution_count": null,
      "outputs": []
    },
    {
      "cell_type": "code",
      "metadata": {
        "id": "3sdniB1YBcRu"
      },
      "source": [
        "train()"
      ],
      "execution_count": null,
      "outputs": []
    },
    {
      "cell_type": "code",
      "metadata": {
        "id": "OsTlSOG_Bc73"
      },
      "source": [
        ""
      ],
      "execution_count": null,
      "outputs": []
    }
  ]
}